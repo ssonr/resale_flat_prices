{
 "cells": [
  {
   "cell_type": "markdown",
   "id": "6d9d5929",
   "metadata": {},
   "source": [
    "# Exploring Deep Learning Models for Predicting Singapore's Resale Flat Prices: A Comprehensive Analysis"
   ]
  },
  {
   "cell_type": "markdown",
   "id": "6c93b444",
   "metadata": {},
   "source": [
    "## Overview"
   ]
  },
  {
   "cell_type": "markdown",
   "id": "6fa0ead7",
   "metadata": {},
   "source": [
    "**Executive Summary**"
   ]
  },
  {
   "cell_type": "markdown",
   "id": "24b7450a",
   "metadata": {},
   "source": [
    "The Housing & Development Board (HDB) plays a pivotal role in Singapore's public housing market, ensuring quality and affordable homes for a significant portion of the population <sup>[1]</sup>. In recent years, escalating resale prices of public housing units have raised concerns among stakeholders, reflecting broader implications for affordability and market dynamics <sup>[2][3]</sup>. To address these pressing issues, our project aims to develop accurate predictive models leveraging deep learning techniques on a comprehensive dataset. \n",
    "\n",
    "By examining factors such as proximity to schools and public transportation, we seek to unravel the intricate dynamics of the Singaporean housing market. Our analysis not only provides valuable insights for homeowners, prospective buyers, and policymakers but also contributes to the broader discourse on housing affordability and market stability. By examining factors such as proximity to schools and public transportation, we seek to unravel the intricate dynamics of the Singaporean housing market. Our analysis not only provides valuable insights for homeowners, prospective buyers, and policymakers but also contributes to the broader discourse on housing affordability and market stability.\n",
    "\n",
    "For more information about HDB, please visit their official page: [About HDB](https://www.hdb.gov.sg/about-us)."
   ]
  },
  {
   "cell_type": "markdown",
   "id": "bab0fbe0",
   "metadata": {},
   "source": [
    "**Aims and Objectives**"
   ]
  },
  {
   "cell_type": "markdown",
   "id": "961bd6dc",
   "metadata": {},
   "source": [
    "The aim of this project is to predict the resale prices of public housing units in Singapore using machine learning and deep learning techniques. The objectives are as follows:\n",
    "\n",
    "1. Data Acquisition and Analysis: \\\n",
    "Extract and analyze a comprehensive dataset of historic sales records from the Housing & Development Board (HDB) or other reputable sources. This dataset will serve as the foundation for modeling and analysis.\n",
    "\n",
    "2. Model Development: \\\n",
    "Explore various regression methods, including deep learning architectures, to develop accurate prediction models for resale prices. Specifically, aim to minimize the Root Mean Squared Error (RMSE) to achieve optimal model performance.\n",
    "\n",
    "3. Feature Engineering: \\\n",
    "Investigate key proximity factors that influence housing prices, such as distance to primary schools and MRT stations. Utilize web scraping and feature engineering techniques to incorporate these factors into the predictive models.\n",
    "\n",
    "4. Interpretation and Insights: \\\n",
    "Interpret the findings from the developed models to gain insights into the dynamics of the public housing resale market. Identify significant features and their impact on housing prices to provide valuable insights for stakeholders.\n",
    "\n",
    "5. Addressing Challenges: \\\n",
    "Acknowledge potential challenges, such as data availability and model complexity, and develop strategies to mitigate these challenges effectively. Ensure transparency in the methodology and interpretation of results.\n",
    "\n",
    "By achieving these objectives, the project aims to provide valuable insights into the dynamics of the public housing resale market and empower homeowners, potential buyers, and policymakers with knowledge to make informed decisions."
   ]
  },
  {
   "cell_type": "markdown",
   "id": "196c1115",
   "metadata": {},
   "source": [
    "**Data Sources**"
   ]
  },
  {
   "cell_type": "markdown",
   "id": "c6bd6588",
   "metadata": {},
   "source": [
    "The dataset, \"Resale Flat Prices,\" available on GovTech Singapore <sup>[4]</sup>, provides a comprehensive collection of resale flat prices over the last ten years (January 2015 to end-March 2024) in Singapore. It encompasses a variety of features, including property attributes, location details, and transaction information, offering rich data for analyzing and predicting public housing resale prices.\n",
    "\n",
    "This information has been pulled and compiled from Singapore's official data bureau <sup>[5]</sup>, which plays a pivotal role in collecting and maintaining authoritative datasets related to public housing and real estate transactions."
   ]
  }
 ],
 "metadata": {
  "kernelspec": {
   "display_name": "Python 3 (ipykernel)",
   "language": "python",
   "name": "python3"
  },
  "language_info": {
   "codemirror_mode": {
    "name": "ipython",
    "version": 3
   },
   "file_extension": ".py",
   "mimetype": "text/x-python",
   "name": "python",
   "nbconvert_exporter": "python",
   "pygments_lexer": "ipython3",
   "version": "3.9.7"
  }
 },
 "nbformat": 4,
 "nbformat_minor": 5
}
